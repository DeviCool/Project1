{
  "cells": [
    {
      "cell_type": "markdown",
      "metadata": {
        "toc": true,
        "id": "3kW3tCqzke3-"
      },
      "source": [
        "<h1>Содержание<span class=\"tocSkip\"></span></h1>\n",
        "<div class=\"toc\"><ul class=\"toc-item\"><li><span><a href=\"#Подготовка-данных\" data-toc-modified-id=\"Подготовка-данных-1\"><span class=\"toc-item-num\">1&nbsp;&nbsp;</span>Подготовка данных</a></span></li><li><span><a href=\"#Исследование-задачи\" data-toc-modified-id=\"Исследование-задачи-2\"><span class=\"toc-item-num\">2&nbsp;&nbsp;</span>Исследование задачи</a></span></li><li><span><a href=\"#Борьба-с-дисбалансом\" data-toc-modified-id=\"Борьба-с-дисбалансом-3\"><span class=\"toc-item-num\">3&nbsp;&nbsp;</span>Борьба с дисбалансом</a></span></li><li><span><a href=\"#Тестирование-модели\" data-toc-modified-id=\"Тестирование-модели-4\"><span class=\"toc-item-num\">4&nbsp;&nbsp;</span>Тестирование модели</a></span></li><li><span><a href=\"#Чек-лист-готовности-проекта\" data-toc-modified-id=\"Чек-лист-готовности-проекта-5\"><span class=\"toc-item-num\">5&nbsp;&nbsp;</span>Чек-лист готовности проекта</a></span></li><li><span><a href=\"#Общий-вывод-по-проекту\" data-toc-modified-id=\"Общий-вывод-по-проекту-6\"><span class=\"toc-item-num\">6&nbsp;&nbsp;</span><b>Общий вывод по проекту</b></a></span></li><li><span><a href=\"#Общий-вывод-по-проекту-В2\" data-toc-modified-id=\"Общий-вывод-по-проекту-В2-7\"><span class=\"toc-item-num\">7&nbsp;&nbsp;</span><b>Общий вывод по проекту В2</b></a></span></li></ul></div>"
      ]
    },
    {
      "cell_type": "markdown",
      "metadata": {
        "id": "vIbLfezdke3_"
      },
      "source": [
        "# Отток клиентов"
      ]
    },
    {
      "cell_type": "markdown",
      "metadata": {
        "id": "k7fLDs83ke3_"
      },
      "source": [
        "Из «Бета-Банка» стали уходить клиенты. Каждый месяц. Немного, но заметно. Банковские маркетологи посчитали: сохранять текущих клиентов дешевле, чем привлекать новых.\n",
        "\n",
        "Нужно спрогнозировать, уйдёт клиент из банка в ближайшее время или нет. Вам предоставлены исторические данные о поведении клиентов и расторжении договоров с банком.\n",
        "\n",
        "Постройте модель с предельно большим значением *F1*-меры. Чтобы сдать проект успешно, нужно довести метрику до 0.59. Проверьте *F1*-меру на тестовой выборке самостоятельно.\n",
        "\n",
        "Дополнительно измеряйте *AUC-ROC*, сравнивайте её значение с *F1*-мерой.\n",
        "\n",
        "Источник данных: [https://www.kaggle.com/barelydedicated/bank-customer-churn-modeling](https://www.kaggle.com/barelydedicated/bank-customer-churn-modeling)"
      ]
    },
    {
      "cell_type": "markdown",
      "metadata": {
        "id": "SOD_xg69ke3_"
      },
      "source": [
        "## Подготовка данных"
      ]
    },
    {
      "cell_type": "code",
      "execution_count": null,
      "metadata": {
        "id": "Zd-SWHZOke3_"
      },
      "outputs": [],
      "source": [
        "import pandas as pd\n",
        "import matplotlib.pyplot as plt\n",
        "import numpy as np\n",
        "from sklearn.tree import DecisionTreeClassifier\n",
        "from sklearn.ensemble import RandomForestClassifier\n",
        "from sklearn.linear_model import LogisticRegression\n",
        "from sklearn.model_selection import train_test_split\n",
        "from sklearn.preprocessing import OrdinalEncoder\n",
        "from sklearn.preprocessing import StandardScaler\n",
        "from sklearn.metrics import f1_score\n",
        "from sklearn.utils import shuffle\n",
        "from sklearn.metrics import roc_curve\n",
        "from sklearn.metrics import roc_auc_score\n",
        "from sklearn.metrics import accuracy_score\n",
        "from sklearn.preprocessing import OneHotEncoder\n",
        "\n",
        "data = pd.read_csv('/datasets/Churn.csv')"
      ]
    },
    {
      "cell_type": "code",
      "execution_count": null,
      "metadata": {
        "id": "X75zwaWXke4A",
        "outputId": "56232c5a-d29f-4b86-aac9-eecc5ed1d50f"
      },
      "outputs": [
        {
          "name": "stdout",
          "output_type": "stream",
          "text": [
            "<class 'pandas.core.frame.DataFrame'>\n",
            "RangeIndex: 10000 entries, 0 to 9999\n",
            "Data columns (total 11 columns):\n",
            " #   Column           Non-Null Count  Dtype  \n",
            "---  ------           --------------  -----  \n",
            " 0   CreditScore      10000 non-null  int64  \n",
            " 1   Geography        10000 non-null  object \n",
            " 2   Gender           10000 non-null  object \n",
            " 3   Age              10000 non-null  int64  \n",
            " 4   Tenure           9091 non-null   float64\n",
            " 5   Balance          10000 non-null  float64\n",
            " 6   NumOfProducts    10000 non-null  int64  \n",
            " 7   HasCrCard        10000 non-null  int64  \n",
            " 8   IsActiveMember   10000 non-null  int64  \n",
            " 9   EstimatedSalary  10000 non-null  float64\n",
            " 10  Exited           10000 non-null  int64  \n",
            "dtypes: float64(3), int64(6), object(2)\n",
            "memory usage: 859.5+ KB\n"
          ]
        }
      ],
      "source": [
        "data = data.drop(['RowNumber','CustomerId', 'Surname'], axis=1)\n",
        "data.info()"
      ]
    },
    {
      "cell_type": "code",
      "execution_count": null,
      "metadata": {
        "id": "ASIer9hnke4C",
        "outputId": "1a63dde3-d85b-42d3-ad7e-227f4cb78003"
      },
      "outputs": [
        {
          "name": "stdout",
          "output_type": "stream",
          "text": [
            "<class 'pandas.core.frame.DataFrame'>\n",
            "RangeIndex: 10000 entries, 0 to 9999\n",
            "Data columns (total 11 columns):\n",
            " #   Column           Non-Null Count  Dtype  \n",
            "---  ------           --------------  -----  \n",
            " 0   CreditScore      10000 non-null  int64  \n",
            " 1   Geography        10000 non-null  object \n",
            " 2   Gender           10000 non-null  object \n",
            " 3   Age              10000 non-null  int64  \n",
            " 4   Tenure           10000 non-null  int64  \n",
            " 5   Balance          10000 non-null  float64\n",
            " 6   NumOfProducts    10000 non-null  int64  \n",
            " 7   HasCrCard        10000 non-null  int64  \n",
            " 8   IsActiveMember   10000 non-null  int64  \n",
            " 9   EstimatedSalary  10000 non-null  float64\n",
            " 10  Exited           10000 non-null  int64  \n",
            "dtypes: float64(2), int64(7), object(2)\n",
            "memory usage: 859.5+ KB\n"
          ]
        }
      ],
      "source": [
        "data['Tenure'] = data['Tenure'].fillna(data['Tenure'].median()).astype('int64')\n",
        "data.info()"
      ]
    },
    {
      "cell_type": "code",
      "execution_count": null,
      "metadata": {
        "id": "6kqQ7PXyke4D",
        "outputId": "c84cd92a-d6e2-47da-b974-5d5f83705e8a"
      },
      "outputs": [
        {
          "data": {
            "text/html": [
              "<div>\n",
              "<style scoped>\n",
              "    .dataframe tbody tr th:only-of-type {\n",
              "        vertical-align: middle;\n",
              "    }\n",
              "\n",
              "    .dataframe tbody tr th {\n",
              "        vertical-align: top;\n",
              "    }\n",
              "\n",
              "    .dataframe thead th {\n",
              "        text-align: right;\n",
              "    }\n",
              "</style>\n",
              "<table border=\"1\" class=\"dataframe\">\n",
              "  <thead>\n",
              "    <tr style=\"text-align: right;\">\n",
              "      <th></th>\n",
              "      <th>CreditScore</th>\n",
              "      <th>Geography</th>\n",
              "      <th>Gender</th>\n",
              "      <th>Age</th>\n",
              "      <th>Tenure</th>\n",
              "      <th>Balance</th>\n",
              "      <th>NumOfProducts</th>\n",
              "      <th>HasCrCard</th>\n",
              "      <th>IsActiveMember</th>\n",
              "      <th>EstimatedSalary</th>\n",
              "      <th>Exited</th>\n",
              "    </tr>\n",
              "  </thead>\n",
              "  <tbody>\n",
              "    <tr>\n",
              "      <th>0</th>\n",
              "      <td>619</td>\n",
              "      <td>France</td>\n",
              "      <td>Female</td>\n",
              "      <td>42</td>\n",
              "      <td>2</td>\n",
              "      <td>0.00</td>\n",
              "      <td>1</td>\n",
              "      <td>1</td>\n",
              "      <td>1</td>\n",
              "      <td>101348.88</td>\n",
              "      <td>1</td>\n",
              "    </tr>\n",
              "    <tr>\n",
              "      <th>1</th>\n",
              "      <td>608</td>\n",
              "      <td>Spain</td>\n",
              "      <td>Female</td>\n",
              "      <td>41</td>\n",
              "      <td>1</td>\n",
              "      <td>83807.86</td>\n",
              "      <td>1</td>\n",
              "      <td>0</td>\n",
              "      <td>1</td>\n",
              "      <td>112542.58</td>\n",
              "      <td>0</td>\n",
              "    </tr>\n",
              "    <tr>\n",
              "      <th>2</th>\n",
              "      <td>502</td>\n",
              "      <td>France</td>\n",
              "      <td>Female</td>\n",
              "      <td>42</td>\n",
              "      <td>8</td>\n",
              "      <td>159660.80</td>\n",
              "      <td>3</td>\n",
              "      <td>1</td>\n",
              "      <td>0</td>\n",
              "      <td>113931.57</td>\n",
              "      <td>1</td>\n",
              "    </tr>\n",
              "    <tr>\n",
              "      <th>3</th>\n",
              "      <td>699</td>\n",
              "      <td>France</td>\n",
              "      <td>Female</td>\n",
              "      <td>39</td>\n",
              "      <td>1</td>\n",
              "      <td>0.00</td>\n",
              "      <td>2</td>\n",
              "      <td>0</td>\n",
              "      <td>0</td>\n",
              "      <td>93826.63</td>\n",
              "      <td>0</td>\n",
              "    </tr>\n",
              "    <tr>\n",
              "      <th>4</th>\n",
              "      <td>850</td>\n",
              "      <td>Spain</td>\n",
              "      <td>Female</td>\n",
              "      <td>43</td>\n",
              "      <td>2</td>\n",
              "      <td>125510.82</td>\n",
              "      <td>1</td>\n",
              "      <td>1</td>\n",
              "      <td>1</td>\n",
              "      <td>79084.10</td>\n",
              "      <td>0</td>\n",
              "    </tr>\n",
              "  </tbody>\n",
              "</table>\n",
              "</div>"
            ],
            "text/plain": [
              "   CreditScore Geography  Gender  Age  Tenure    Balance  NumOfProducts  \\\n",
              "0          619    France  Female   42       2       0.00              1   \n",
              "1          608     Spain  Female   41       1   83807.86              1   \n",
              "2          502    France  Female   42       8  159660.80              3   \n",
              "3          699    France  Female   39       1       0.00              2   \n",
              "4          850     Spain  Female   43       2  125510.82              1   \n",
              "\n",
              "   HasCrCard  IsActiveMember  EstimatedSalary  Exited  \n",
              "0          1               1        101348.88       1  \n",
              "1          0               1        112542.58       0  \n",
              "2          1               0        113931.57       1  \n",
              "3          0               0         93826.63       0  \n",
              "4          1               1         79084.10       0  "
            ]
          },
          "execution_count": 29,
          "metadata": {},
          "output_type": "execute_result"
        }
      ],
      "source": [
        "data.head()"
      ]
    },
    {
      "cell_type": "markdown",
      "metadata": {
        "id": "f_OhPjXFke4D"
      },
      "source": [
        "## Исследование задачи"
      ]
    },
    {
      "cell_type": "code",
      "execution_count": null,
      "metadata": {
        "id": "_4e-y4-Uke4D",
        "outputId": "19913f91-d110-4364-fb5c-7429a9e8b3d1"
      },
      "outputs": [
        {
          "data": {
            "text/plain": [
              "<AxesSubplot:title={'center':'Соотношение тех, кто остался и тех кто ушел'}>"
            ]
          },
          "execution_count": 30,
          "metadata": {},
          "output_type": "execute_result"
        },
        {
          "data": {
            "image/png": "[encoded data removed]",
            "text/plain": [
              "<Figure size 432x432 with 1 Axes>"
            ]
          },
          "metadata": {
            "needs_background": "light"
          },
          "output_type": "display_data"
        }
      ],
      "source": [
        "data['Exited'].value_counts().plot(kind='bar',grid=True,figsize=(6,6),title='Соотношение тех, кто остался и тех кто ушел')"
      ]
    },
    {
      "cell_type": "markdown",
      "metadata": {
        "id": "kN5uQf-ike4D"
      },
      "source": [
        "Соотношение 1:4. Значит присутствует дисбаланс данных"
      ]
    },
    {
      "cell_type": "code",
      "execution_count": null,
      "metadata": {
        "id": "uPqFX0Sgke4D",
        "outputId": "1f308baa-657d-48cd-f05a-08e470616355"
      },
      "outputs": [
        {
          "data": {
            "image/png": "[encoded data removed]",
            "text/plain": [
              "<Figure size 1080x360 with 1 Axes>"
            ]
          },
          "metadata": {
            "needs_background": "light"
          },
          "output_type": "display_data"
        }
      ],
      "source": [
        "data.groupby('Age')['Exited'].sum().plot(figsize=(15,5),kind='bar',title='Гистограмма возраста и оттока')\n",
        "plt.show()"
      ]
    },
    {
      "cell_type": "markdown",
      "metadata": {
        "id": "m_WyOc_5ke4E"
      },
      "source": [
        "По графику видно, что люди от 39 до 52 уходят чаще остальных"
      ]
    },
    {
      "cell_type": "code",
      "execution_count": null,
      "metadata": {
        "id": "VfGLHRPvke4E"
      },
      "outputs": [],
      "source": [
        "data_ohe = pd.get_dummies(data, drop_first=True)"
      ]
    },
    {
      "cell_type": "code",
      "execution_count": null,
      "metadata": {
        "id": "0JSxIuHJke4E"
      },
      "outputs": [],
      "source": [
        "features = data_ohe.drop(['Exited'], axis=1)\n",
        "target = data_ohe['Exited']"
      ]
    },
    {
      "cell_type": "code",
      "execution_count": null,
      "metadata": {
        "id": "58v0OOflke4E"
      },
      "outputs": [],
      "source": [
        "features_train, features_validtest, target_train, target_validtest = train_test_split(features,\n",
        "                                                    target,\n",
        "                                                    train_size=0.6,\n",
        "                                                    random_state=12345)\n",
        "\n",
        "features_valid, features_test, target_valid, target_test = train_test_split(features_validtest,\n",
        "                                                    target_validtest,\n",
        "                                                    train_size=0.5,\n",
        "                                                    random_state=12345)"
      ]
    },
    {
      "cell_type": "code",
      "execution_count": null,
      "metadata": {
        "id": "W9PYzUC3ke4E",
        "outputId": "0e07b34a-8376-4eab-ff78-bc9ec3b64912"
      },
      "outputs": [
        {
          "name": "stderr",
          "output_type": "stream",
          "text": [
            "/tmp/ipykernel_31/1580900459.py:4: SettingWithCopyWarning: \n",
            "A value is trying to be set on a copy of a slice from a DataFrame.\n",
            "Try using .loc[row_indexer,col_indexer] = value instead\n",
            "\n",
            "See the caveats in the documentation: https://pandas.pydata.org/pandas-docs/stable/user_guide/indexing.html#returning-a-view-versus-a-copy\n",
            "  features_train[numeric] = scaler.transform(features_train[numeric])\n",
            "/opt/conda/lib/python3.9/site-packages/pandas/core/indexing.py:1738: SettingWithCopyWarning: \n",
            "A value is trying to be set on a copy of a slice from a DataFrame.\n",
            "Try using .loc[row_indexer,col_indexer] = value instead\n",
            "\n",
            "See the caveats in the documentation: https://pandas.pydata.org/pandas-docs/stable/user_guide/indexing.html#returning-a-view-versus-a-copy\n",
            "  self._setitem_single_column(loc, value[:, i].tolist(), pi)\n",
            "/tmp/ipykernel_31/1580900459.py:5: SettingWithCopyWarning: \n",
            "A value is trying to be set on a copy of a slice from a DataFrame.\n",
            "Try using .loc[row_indexer,col_indexer] = value instead\n",
            "\n",
            "See the caveats in the documentation: https://pandas.pydata.org/pandas-docs/stable/user_guide/indexing.html#returning-a-view-versus-a-copy\n",
            "  features_valid[numeric] = scaler.transform(features_valid[numeric])\n",
            "/opt/conda/lib/python3.9/site-packages/pandas/core/indexing.py:1738: SettingWithCopyWarning: \n",
            "A value is trying to be set on a copy of a slice from a DataFrame.\n",
            "Try using .loc[row_indexer,col_indexer] = value instead\n",
            "\n",
            "See the caveats in the documentation: https://pandas.pydata.org/pandas-docs/stable/user_guide/indexing.html#returning-a-view-versus-a-copy\n",
            "  self._setitem_single_column(loc, value[:, i].tolist(), pi)\n",
            "/tmp/ipykernel_31/1580900459.py:6: SettingWithCopyWarning: \n",
            "A value is trying to be set on a copy of a slice from a DataFrame.\n",
            "Try using .loc[row_indexer,col_indexer] = value instead\n",
            "\n",
            "See the caveats in the documentation: https://pandas.pydata.org/pandas-docs/stable/user_guide/indexing.html#returning-a-view-versus-a-copy\n",
            "  features_test[numeric] = scaler.transform(features_test[numeric])\n",
            "/opt/conda/lib/python3.9/site-packages/pandas/core/indexing.py:1738: SettingWithCopyWarning: \n",
            "A value is trying to be set on a copy of a slice from a DataFrame.\n",
            "Try using .loc[row_indexer,col_indexer] = value instead\n",
            "\n",
            "See the caveats in the documentation: https://pandas.pydata.org/pandas-docs/stable/user_guide/indexing.html#returning-a-view-versus-a-copy\n",
            "  self._setitem_single_column(loc, value[:, i].tolist(), pi)\n"
          ]
        }
      ],
      "source": [
        "numeric = ['CreditScore','Age','Tenure','Balance','NumOfProducts','HasCrCard','IsActiveMember','EstimatedSalary']\n",
        "scaler = StandardScaler()\n",
        "scaler.fit(features_train[numeric])\n",
        "features_train[numeric] = scaler.transform(features_train[numeric])\n",
        "features_valid[numeric] = scaler.transform(features_valid[numeric])\n",
        "features_test[numeric] = scaler.transform(features_test[numeric])"
      ]
    },
    {
      "cell_type": "markdown",
      "metadata": {
        "id": "caTB_0y_ke4F"
      },
      "source": [
        "Избавились от категориальных признаков методом One hot encoder"
      ]
    },
    {
      "cell_type": "code",
      "execution_count": null,
      "metadata": {
        "id": "kYz958oqke4F"
      },
      "outputs": [],
      "source": [
        "def all_models_accuracy(features_train, target_train, features_valid, target_valid):\n",
        "    model_DTC = DecisionTreeClassifier(random_state=1515)\n",
        "    DTC_score = model_DTC.fit(features_train, target_train).score(features_valid, target_valid)\n",
        "\n",
        "    model_RFC = RandomForestClassifier(max_depth=7, n_estimators=43, min_samples_leaf=3, random_state=1515)\n",
        "    RFC_score = model_RFC.fit(features_train, target_train).score(features_valid, target_valid)\n",
        "\n",
        "    model_LgR = LogisticRegression(solver = 'liblinear')\n",
        "    LgR_score = model_LgR.fit(features_train, target_train).score(features_valid, target_valid)\n",
        "    print(\"Точность:\")\n",
        "    print(\"Дерево решений\", DTC_score, \"| Случайный лес \", RFC_score, \"| Логистческая регрессия\", LgR_score)"
      ]
    },
    {
      "cell_type": "code",
      "execution_count": null,
      "metadata": {
        "id": "X_LxTh_Tke4F",
        "outputId": "aac3de2e-d3a9-4025-e254-02ecc3fb5dee"
      },
      "outputs": [
        {
          "name": "stdout",
          "output_type": "stream",
          "text": [
            "Точность:\n",
            "Дерево решений 0.79 | Случайный лес  0.8585 | Логистческая регрессия 0.802\n"
          ]
        }
      ],
      "source": [
        "all_models_accuracy(features_train, target_train, features_valid, target_valid)"
      ]
    },
    {
      "cell_type": "code",
      "execution_count": null,
      "metadata": {
        "id": "JaKwRfBpke4F",
        "outputId": "fc5344a3-b09e-42b7-9ec2-c1c47f15dd36"
      },
      "outputs": [
        {
          "name": "stdout",
          "output_type": "stream",
          "text": [
            "0.5999999999999999 14 9\n"
          ]
        }
      ],
      "source": [
        "best = best_depth = best_est = 0\n",
        "for depth in range(1, 16):\n",
        "    for est in range(1,50):\n",
        "        model_RFC = RandomForestClassifier(max_depth=depth, n_estimators=est, random_state=12345)\n",
        "        model_RFC.fit(features_train, target_train)\n",
        "        predictions = model_RFC.predict(features_valid)\n",
        "        #print('Глубина:', depth, 'est:', est, 'F1:', f1_score(target_valid, predictions))\n",
        "        if best < f1_score(target_valid, predictions):\n",
        "            best = f1_score(target_valid, predictions)\n",
        "            best_depth = depth\n",
        "            best_est = est\n",
        "print(best, best_depth, best_est)"
      ]
    },
    {
      "cell_type": "markdown",
      "metadata": {
        "id": "YYb-zWVpke4F"
      },
      "source": [
        "Лучший показатель F1 = 0.598 при max_depth=13 и n_estimators=9"
      ]
    },
    {
      "cell_type": "code",
      "execution_count": null,
      "metadata": {
        "id": "ISKg86VIke4F",
        "outputId": "853b7d40-0e1e-4caa-c361-4b2b848cb74c"
      },
      "outputs": [
        {
          "data": {
            "text/plain": [
              "0.8402278322515865"
            ]
          },
          "execution_count": 39,
          "metadata": {},
          "output_type": "execute_result"
        }
      ],
      "source": [
        "RFC_probabilities_one_valid = model_RFC.predict_proba(features_valid)[:, 1]\n",
        "auc_roc_RFC = roc_auc_score(target_valid, RFC_probabilities_one_valid)\n",
        "auc_roc_RFC"
      ]
    },
    {
      "cell_type": "markdown",
      "metadata": {
        "id": "8eFMMy_kke4K"
      },
      "source": [
        "## Борьба с дисбалансом"
      ]
    },
    {
      "cell_type": "code",
      "execution_count": null,
      "metadata": {
        "id": "x8vqiCDQke4K"
      },
      "outputs": [],
      "source": [
        "def upsample(features, target, repeat):\n",
        "    features_zeros = features[target == 0]\n",
        "    features_ones = features[target == 1]\n",
        "    target_zeros = target[target == 0]\n",
        "    target_ones = target[target == 1]\n",
        "\n",
        "    features_upsampled = pd.concat([features_zeros] + [features_ones] * repeat)\n",
        "    target_upsampled = pd.concat([target_zeros] + [target_ones] * repeat)\n",
        "\n",
        "    features_upsampled, target_upsampled = shuffle(features_upsampled, target_upsampled, random_state=12345)\n",
        "\n",
        "    return features_upsampled, target_upsampled\n"
      ]
    },
    {
      "cell_type": "code",
      "execution_count": null,
      "metadata": {
        "id": "x207DBlTke4K"
      },
      "outputs": [],
      "source": [
        "def downsample(features, target, fraction):\n",
        "    features_zeros = features[target == 0]\n",
        "    features_ones = features[target == 1]\n",
        "    target_zeros = target[target == 0]\n",
        "    target_ones = target[target == 1]\n",
        "\n",
        "    features_downsampled = pd.concat([features_zeros.sample(frac=fraction, random_state=12345)] + [features_ones])\n",
        "    target_downsampled = pd.concat([target_zeros.sample(frac=fraction, random_state=12345)] + [target_ones])\n",
        "\n",
        "    features_downsampled, target_downsampled = shuffle(features_downsampled, target_downsampled, random_state=12345)\n",
        "\n",
        "    return features_downsampled, target_downsampled\n"
      ]
    },
    {
      "cell_type": "markdown",
      "metadata": {
        "id": "wQ_EaF5mke4L"
      },
      "source": [
        "<b>Проверим upsample</b>"
      ]
    },
    {
      "cell_type": "code",
      "execution_count": null,
      "metadata": {
        "id": "ZcTuO0nike4L",
        "outputId": "8833e962-b79b-4f59-dfd8-eda5580cddbc"
      },
      "outputs": [
        {
          "name": "stdout",
          "output_type": "stream",
          "text": [
            "0    0.501043\n",
            "1    0.498957\n",
            "Name: Exited, dtype: float64\n",
            "(9588,)\n"
          ]
        }
      ],
      "source": [
        "features_train_upsampled, target_train_upsampled = upsample(features_train, target_train, 4)\n",
        "print(target_train_upsampled.value_counts(normalize = 1))\n",
        "print(target_train_upsampled.shape)"
      ]
    },
    {
      "cell_type": "code",
      "execution_count": null,
      "metadata": {
        "id": "D7w9WqPPke4L",
        "outputId": "3515d90d-2337-4a19-e1e7-2db4902a6994"
      },
      "outputs": [
        {
          "name": "stdout",
          "output_type": "stream",
          "text": [
            "Точность:\n",
            "Дерево решений 0.79 | Случайный лес  0.8585 | Логистческая регрессия 0.802\n"
          ]
        }
      ],
      "source": [
        "all_models_accuracy(features_train, target_train, features_valid, target_valid)"
      ]
    },
    {
      "cell_type": "code",
      "execution_count": null,
      "metadata": {
        "id": "Mc9nuSzTke4L",
        "outputId": "91bb8d19-0a64-4341-f561-14157524da08"
      },
      "outputs": [
        {
          "name": "stdout",
          "output_type": "stream",
          "text": [
            "Точность:\n",
            "Дерево решений 0.793 | Случайный лес  0.8105 | Логистческая регрессия 0.702\n"
          ]
        }
      ],
      "source": [
        "all_models_accuracy(features_train_upsampled, target_train_upsampled, features_valid, target_valid)"
      ]
    },
    {
      "cell_type": "markdown",
      "metadata": {
        "id": "r8r_LNjkke4L"
      },
      "source": [
        "<b>Проверим downsample</b>"
      ]
    },
    {
      "cell_type": "code",
      "execution_count": null,
      "metadata": {
        "id": "ofwdpi64ke4L",
        "outputId": "11d1e726-f494-4632-c6a8-00129b0882d0"
      },
      "outputs": [
        {
          "name": "stdout",
          "output_type": "stream",
          "text": [
            "0    0.800667\n",
            "1    0.199333\n",
            "Name: Exited, dtype: float64\n",
            "(6000,)\n"
          ]
        }
      ],
      "source": [
        "features_train_downsampled, target_train_downsampled = downsample(features_train, target_train, 1)\n",
        "print(target_train_downsampled.value_counts(normalize = 1))\n",
        "print(target_train_downsampled.shape)"
      ]
    },
    {
      "cell_type": "code",
      "execution_count": null,
      "metadata": {
        "id": "JFkI92R2ke4L",
        "outputId": "fe0a21db-8906-459a-8eb5-062311cabf63"
      },
      "outputs": [
        {
          "name": "stdout",
          "output_type": "stream",
          "text": [
            "Точность:\n",
            "Дерево решений 0.79 | Случайный лес  0.8585 | Логистческая регрессия 0.802\n"
          ]
        }
      ],
      "source": [
        "all_models_accuracy(features_train, target_train, features_valid, target_valid)"
      ]
    },
    {
      "cell_type": "code",
      "execution_count": null,
      "metadata": {
        "id": "GYcRyGxake4L",
        "outputId": "4f51128b-89f9-421c-febe-6f73652fcc7c"
      },
      "outputs": [
        {
          "name": "stdout",
          "output_type": "stream",
          "text": [
            "Точность:\n",
            "Дерево решений 0.79 | Случайный лес  0.8605 | Логистческая регрессия 0.802\n"
          ]
        }
      ],
      "source": [
        "all_models_accuracy(features_train_downsampled, target_train_downsampled, features_valid, target_valid)"
      ]
    },
    {
      "cell_type": "markdown",
      "metadata": {
        "id": "Rc2hzVRJke4M"
      },
      "source": [
        "###### downsample показывает себя хуже, чем upsample. Поэтому буду использовать upsample"
      ]
    },
    {
      "cell_type": "code",
      "execution_count": null,
      "metadata": {
        "id": "Uo0DrVDWke4M",
        "outputId": "6cca0e63-aea9-43dc-822f-49485d65d1d0"
      },
      "outputs": [
        {
          "name": "stdout",
          "output_type": "stream",
          "text": [
            "0.6329723225030085 13 35\n",
            "Лучший показатель F1=0.6329723225030085, при max_depth=13 и n_estimatos=35\n"
          ]
        }
      ],
      "source": [
        "best = best_depth = best_est = 0\n",
        "for depth in range(1, 16):\n",
        "    for est in range(1,50):\n",
        "        model_RFC_upsampled = RandomForestClassifier(max_depth=depth, n_estimators=est, random_state=12345)\n",
        "        model_RFC_upsampled.fit(features_train_upsampled, target_train_upsampled)\n",
        "        predictions = model_RFC_upsampled.predict(features_valid)\n",
        "        #print('Глубина:', depth, 'est:', est, 'F1:', f1_score(target_valid, predictions))\n",
        "        if best < f1_score(target_valid, predictions):\n",
        "            best = f1_score(target_valid, predictions)\n",
        "            best_depth = depth\n",
        "            best_est = est\n",
        "#print(best, best_depth, best_est)\n",
        "print('Лучший показатель F1={}, при max_depth={} и n_estimatos={}'.format(best, best_depth, best_est))"
      ]
    },
    {
      "cell_type": "code",
      "execution_count": null,
      "metadata": {
        "id": "Qyb0B-aoke4M",
        "outputId": "8c863c43-ae34-4a00-f463-5c613c0d14b4"
      },
      "outputs": [
        {
          "data": {
            "text/plain": [
              "0.8371466679571011"
            ]
          },
          "execution_count": 103,
          "metadata": {},
          "output_type": "execute_result"
        }
      ],
      "source": [
        "RFC_upsampled_valid = model_RFC_upsampled.predict_proba(features_valid)[:, 1]\n",
        "auc_roc_RFC = roc_auc_score(target_valid, RFC_upsampled_valid)\n",
        "auc_roc_RFC"
      ]
    },
    {
      "cell_type": "code",
      "execution_count": null,
      "metadata": {
        "id": "vYHgsjyFke4M",
        "outputId": "69e518f0-41ab-4ea5-d175-31a2e8f21199"
      },
      "outputs": [
        {
          "name": "stdout",
          "output_type": "stream",
          "text": [
            "Лучший показатель F1 = 0.5963791267305644, при глубине = 5\n"
          ]
        }
      ],
      "source": [
        "best = best_depth = 0\n",
        "for depth in range(1,51):\n",
        "    model_DTC_upsampled = DecisionTreeClassifier(max_depth=depth, random_state=12345)\n",
        "    model_DTC_upsampled.fit(features_train_upsampled, target_train_upsampled)\n",
        "    predictions = model_DTC_upsampled.predict(features_valid)\n",
        "    if best < f1_score(target_valid, predictions):\n",
        "        best = f1_score(target_valid, predictions)\n",
        "        best_depth = depth\n",
        "print('Лучший показатель F1 = {}, при глубине = {}'.format(best, best_depth))"
      ]
    },
    {
      "cell_type": "code",
      "execution_count": null,
      "metadata": {
        "id": "RfPODBrOke4M",
        "outputId": "2ee9ae1a-dec0-462c-d3c0-588c1662b7bd"
      },
      "outputs": [
        {
          "data": {
            "text/plain": [
              "0.6564324124873728"
            ]
          },
          "execution_count": 105,
          "metadata": {},
          "output_type": "execute_result"
        }
      ],
      "source": [
        "DTC_upsampled_valid = model_DTC_upsampled.predict_proba(features_valid)[:, 1]\n",
        "auc_roc_DTC = roc_auc_score(target_valid, DTC_upsampled_valid)\n",
        "auc_roc_DTC"
      ]
    },
    {
      "cell_type": "markdown",
      "metadata": {
        "id": "vhjKAgzUke4N"
      },
      "source": [
        "Показаели всех моделей улучшились.\n",
        "\n",
        "Лучшие результаты показывает алгоритм случайный лес (RandomForestClassifier). На валидационной выборке RandomForestClassifier уже показывает резульаты F1 меры = 0.63, что выше целевого целевого значения."
      ]
    },
    {
      "cell_type": "markdown",
      "metadata": {
        "id": "2-t82PqEke4N"
      },
      "source": [
        "## Тестирование модели"
      ]
    },
    {
      "cell_type": "code",
      "execution_count": null,
      "metadata": {
        "id": "bfEKPBgqke4N",
        "outputId": "7856ac72-21ed-4bc8-ea1e-4ff34c372186"
      },
      "outputs": [
        {
          "name": "stdout",
          "output_type": "stream",
          "text": [
            "F1 : 0.5918854415274463\n"
          ]
        }
      ],
      "source": [
        "model_RFC_final = RandomForestClassifier(max_depth= 13, n_estimators = 35, random_state=12345)\n",
        "model_RFC_final.fit(features_train_upsampled, target_train_upsampled)\n",
        "model_RFC_final_prediction = model_RFC_final.predict(features_test)\n",
        "print('F1 :',f1_score(target_test, model_RFC_final_prediction))"
      ]
    },
    {
      "cell_type": "code",
      "execution_count": null,
      "metadata": {
        "id": "uGftAS5Rke4N",
        "outputId": "316c2a11-5a74-4135-d537-97a7d012795f"
      },
      "outputs": [
        {
          "data": {
            "text/plain": [
              "0.8447668988758317"
            ]
          },
          "execution_count": 69,
          "metadata": {},
          "output_type": "execute_result"
        }
      ],
      "source": [
        "model_RFC_final_valid = model_RFC_final.predict_proba(features_test)[:, 1]\n",
        "auc_roc_RFC = roc_auc_score(target_test, model_RFC_final_valid)\n",
        "auc_roc_RFC"
      ]
    },
    {
      "cell_type": "code",
      "execution_count": null,
      "metadata": {
        "id": "SOleXOCXke4O",
        "outputId": "3ecf1e04-c24e-499b-e7e9-8527f791aaa6"
      },
      "outputs": [
        {
          "data": {
            "text/plain": [
              "0    2000\n",
              "dtype: int64"
            ]
          },
          "execution_count": 70,
          "metadata": {},
          "output_type": "execute_result"
        }
      ],
      "source": [
        "target_predict_constant = pd.Series([0]*len(target_test))\n",
        "target_predict_constant.value_counts()"
      ]
    },
    {
      "cell_type": "code",
      "execution_count": null,
      "metadata": {
        "id": "hNcNIegfke4O",
        "outputId": "0340442b-d3d3-49bf-96c5-a3ba2c721624"
      },
      "outputs": [
        {
          "name": "stdout",
          "output_type": "stream",
          "text": [
            "accuracy_score константой модели: 0.791\n",
            "accuracy_score финальной модели: 0.829\n",
            "AUC-ROC константой модели: 0.5\n",
            "AUC-ROC финальной модели: 0.8447668988758317\n"
          ]
        }
      ],
      "source": [
        "#Сравним показатель точности (accuracy_score) константной модели и финальной\n",
        "print('accuracy_score константой модели:', accuracy_score(target_valid, target_predict_constant))\n",
        "print('accuracy_score финальной модели:', accuracy_score(target_test, model_RFC_final_prediction))\n",
        "#Дополнительно сравним AUC-ROC — единственный параметр подающийся сравнению, потому что константная подель содержит только негативные ответы\n",
        "print('AUC-ROC константой модели:', roc_auc_score(target_valid, target_predict_constant))\n",
        "print('AUC-ROC финальной модели:', roc_auc_score(target_test, model_RFC_final_valid))"
      ]
    },
    {
      "cell_type": "markdown",
      "metadata": {
        "id": "carrJfNhke4O"
      },
      "source": [
        "Показатели финальной модели лучше, чем у константной. Следовательно модель можно считать адекватной"
      ]
    },
    {
      "cell_type": "markdown",
      "metadata": {
        "id": "pflhYq5ike4P"
      },
      "source": [
        "В первоначальные данных наблюдался значительный дисбаланс, из-за чего обученная на этих данных модель не проходила проверку на адекватность. Все модели не первоначальных данных характеризовались высокой степенью ошибок.\n",
        "\n",
        "Мы устранили дисбаланс классов в обучающей выборки методом upsampling — увеличили количество значений позитивного класса в 4 раза. Так мы достигли баланса классов обучеющей выборки: 0 - 0.501043 1 - 0.498957\n",
        "\n",
        "Разобрали несколько вариантов борьбы с дисбалансом upsampling и downsampling\n",
        "\n",
        "На новых данных все модели показали результат выше, чем на несбалансированной выборке. Лучшие показатели были у модели случайного леса:\n",
        "F1-мера 0.6329723225030085\n",
        "AUC-ROC 0.8371466679571011\n",
        "\n",
        "aaccuracy_score константой модели: 0.791\n",
        "accuracy_score финальной модели: 0.8385\n",
        "AUC-ROC константой модели: 0.5\n",
        "AUC-ROC финальной модели: 0.849258174916913"
      ]
    },
    {
      "cell_type": "markdown",
      "metadata": {
        "id": "lhFaGOvske4P"
      },
      "source": [
        "<div style=\"border:solid Chocolate 2px; padding: 40px\">\n",
        "\n",
        "<h2><b>Общий вывод по проекту</b></h2>\n",
        "\n",
        "Ты очень постарался, спасибо тебе за такую работу!)\n",
        "\n",
        "В ходе проекта были выполнены все этапы проекта, однако главная цель не достигнута. Конечно присутствует ряд моментов, которые необходимо рассмотреть, но ничего страшного, для это я здесь). Давай пройдемся по всему что ты сделал, чтобы понять что надо сделать для того, чтобы проект был засчитан:\n",
        "\n",
        "- заполнение пропусков константой - искажение в данных, лучше либо удалить пропуски, либо медиану подставить\n",
        "- тестовая выборка отсутствует - добавь\n",
        "- auc_roc метрика отсутствует - добавь\n",
        "- проблема с дисбалансом после преобразования на методах upsample и downsample\n",
        "- реализация методов upsample и downsample выполнена не полностью - поправь\n",
        "- добавь итоговый вывод\n",
        "- Есть советы по проекту, если хочешь и есть время - реализуй их. Если нет, то запомни на будущее)"
      ]
    }
  ],
  "metadata": {
    "ExecuteTimeLog": [
      {
        "duration": 1391,
        "start_time": "2023-03-19T18:35:33.558Z"
      },
      {
        "duration": 13,
        "start_time": "2023-03-19T18:35:40.466Z"
      },
      {
        "duration": 5,
        "start_time": "2023-03-19T18:36:27.869Z"
      },
      {
        "duration": 1606,
        "start_time": "2023-03-19T21:53:05.464Z"
      },
      {
        "duration": 14,
        "start_time": "2023-03-19T21:53:07.073Z"
      },
      {
        "duration": 15,
        "start_time": "2023-03-19T21:55:15.024Z"
      },
      {
        "duration": 130,
        "start_time": "2023-03-19T21:55:19.456Z"
      },
      {
        "duration": 40,
        "start_time": "2023-03-19T21:55:28.745Z"
      },
      {
        "duration": 13,
        "start_time": "2023-03-19T21:55:28.935Z"
      },
      {
        "duration": 1639,
        "start_time": "2023-03-20T10:08:52.003Z"
      },
      {
        "duration": 12,
        "start_time": "2023-03-20T10:08:53.644Z"
      },
      {
        "duration": 4,
        "start_time": "2023-03-20T10:08:53.796Z"
      },
      {
        "duration": 101,
        "start_time": "2023-03-20T10:09:54.660Z"
      },
      {
        "duration": 4,
        "start_time": "2023-03-20T10:09:55.154Z"
      },
      {
        "duration": 4,
        "start_time": "2023-03-20T10:10:14.405Z"
      },
      {
        "duration": 11,
        "start_time": "2023-03-20T10:10:28.084Z"
      },
      {
        "duration": 14,
        "start_time": "2023-03-20T10:19:22.158Z"
      },
      {
        "duration": 123,
        "start_time": "2023-03-20T10:19:31.232Z"
      },
      {
        "duration": 105,
        "start_time": "2023-03-20T10:19:44.807Z"
      },
      {
        "duration": 102,
        "start_time": "2023-03-20T10:19:51.324Z"
      },
      {
        "duration": 78,
        "start_time": "2023-03-20T10:19:56.346Z"
      },
      {
        "duration": 114,
        "start_time": "2023-03-20T10:20:04.575Z"
      },
      {
        "duration": 115,
        "start_time": "2023-03-20T10:20:09.839Z"
      },
      {
        "duration": 161,
        "start_time": "2023-03-20T10:20:16.607Z"
      },
      {
        "duration": 110,
        "start_time": "2023-03-20T10:20:19.117Z"
      },
      {
        "duration": 105,
        "start_time": "2023-03-20T10:20:22.534Z"
      },
      {
        "duration": 830,
        "start_time": "2023-03-20T10:22:36.527Z"
      },
      {
        "duration": 723,
        "start_time": "2023-03-20T10:22:42.769Z"
      },
      {
        "duration": 935,
        "start_time": "2023-03-20T10:22:47.324Z"
      },
      {
        "duration": 1017,
        "start_time": "2023-03-20T10:22:52.388Z"
      },
      {
        "duration": 859,
        "start_time": "2023-03-20T10:23:02.453Z"
      },
      {
        "duration": 921,
        "start_time": "2023-03-20T10:23:10.083Z"
      },
      {
        "duration": 753,
        "start_time": "2023-03-20T10:23:13.516Z"
      },
      {
        "duration": 808,
        "start_time": "2023-03-20T10:23:18.411Z"
      },
      {
        "duration": 817,
        "start_time": "2023-03-20T10:23:20.652Z"
      },
      {
        "duration": 57,
        "start_time": "2023-03-21T09:39:04.231Z"
      },
      {
        "duration": 1889,
        "start_time": "2023-03-21T09:39:09.679Z"
      },
      {
        "duration": 13,
        "start_time": "2023-03-21T09:39:11.570Z"
      },
      {
        "duration": 13,
        "start_time": "2023-03-21T09:39:11.584Z"
      },
      {
        "duration": 24,
        "start_time": "2023-03-21T09:39:11.599Z"
      },
      {
        "duration": 141,
        "start_time": "2023-03-21T09:39:11.624Z"
      },
      {
        "duration": 815,
        "start_time": "2023-03-21T09:39:11.775Z"
      },
      {
        "duration": 10,
        "start_time": "2023-03-21T09:39:14.545Z"
      },
      {
        "duration": 40,
        "start_time": "2023-03-21T09:39:58.219Z"
      },
      {
        "duration": 14,
        "start_time": "2023-03-21T09:39:58.416Z"
      },
      {
        "duration": 12,
        "start_time": "2023-03-21T09:39:58.585Z"
      },
      {
        "duration": 11,
        "start_time": "2023-03-21T09:39:58.759Z"
      },
      {
        "duration": 184,
        "start_time": "2023-03-21T09:39:59.520Z"
      },
      {
        "duration": 869,
        "start_time": "2023-03-21T09:40:00.792Z"
      },
      {
        "duration": 11,
        "start_time": "2023-03-21T09:40:02.421Z"
      },
      {
        "duration": 6,
        "start_time": "2023-03-21T09:40:46.387Z"
      },
      {
        "duration": 6,
        "start_time": "2023-03-21T09:42:06.367Z"
      },
      {
        "duration": 100,
        "start_time": "2023-03-21T09:44:31.944Z"
      },
      {
        "duration": 17,
        "start_time": "2023-03-21T09:44:48.901Z"
      },
      {
        "duration": 31,
        "start_time": "2023-03-21T09:45:25.755Z"
      },
      {
        "duration": 31,
        "start_time": "2023-03-21T09:45:32.855Z"
      },
      {
        "duration": 6,
        "start_time": "2023-03-21T09:46:05.930Z"
      },
      {
        "duration": 28,
        "start_time": "2023-03-21T09:46:07.370Z"
      },
      {
        "duration": 238,
        "start_time": "2023-03-21T09:49:49.615Z"
      },
      {
        "duration": 8716,
        "start_time": "2023-03-21T09:49:53.945Z"
      },
      {
        "duration": 10117,
        "start_time": "2023-03-21T09:50:23.909Z"
      },
      {
        "duration": 10243,
        "start_time": "2023-03-21T09:51:58.916Z"
      },
      {
        "duration": 18644,
        "start_time": "2023-03-21T09:52:17.131Z"
      },
      {
        "duration": 9255,
        "start_time": "2023-03-21T09:53:47.161Z"
      },
      {
        "duration": 22020,
        "start_time": "2023-03-21T09:53:57.788Z"
      },
      {
        "duration": 10940,
        "start_time": "2023-03-21T09:54:42.921Z"
      },
      {
        "duration": 15361,
        "start_time": "2023-03-21T09:55:05.900Z"
      },
      {
        "duration": 7939,
        "start_time": "2023-03-21T09:58:43.395Z"
      },
      {
        "duration": 15912,
        "start_time": "2023-03-21T09:59:21.920Z"
      },
      {
        "duration": 7951,
        "start_time": "2023-03-21T09:59:50.355Z"
      },
      {
        "duration": 14,
        "start_time": "2023-03-21T10:00:40.194Z"
      },
      {
        "duration": 692,
        "start_time": "2023-03-21T10:00:53.046Z"
      },
      {
        "duration": 760,
        "start_time": "2023-03-21T10:02:03.782Z"
      },
      {
        "duration": 348,
        "start_time": "2023-03-21T10:02:08.369Z"
      },
      {
        "duration": 378,
        "start_time": "2023-03-21T10:02:11.875Z"
      },
      {
        "duration": 12,
        "start_time": "2023-03-21T10:03:31.044Z"
      },
      {
        "duration": 3544,
        "start_time": "2023-03-21T10:03:56.741Z"
      },
      {
        "duration": 58,
        "start_time": "2023-03-21T10:04:08.124Z"
      },
      {
        "duration": 101,
        "start_time": "2023-03-21T10:04:16.763Z"
      },
      {
        "duration": 106,
        "start_time": "2023-03-21T10:04:21.178Z"
      },
      {
        "duration": 40670,
        "start_time": "2023-03-21T10:06:08.063Z"
      },
      {
        "duration": 30,
        "start_time": "2023-03-21T10:07:57.063Z"
      },
      {
        "duration": 4590,
        "start_time": "2023-03-21T10:08:33.060Z"
      },
      {
        "duration": 42138,
        "start_time": "2023-03-21T10:08:41.121Z"
      },
      {
        "duration": 10558,
        "start_time": "2023-03-21T10:10:17.424Z"
      },
      {
        "duration": 142,
        "start_time": "2023-03-21T10:11:42.191Z"
      },
      {
        "duration": 93,
        "start_time": "2023-03-21T10:12:53.989Z"
      },
      {
        "duration": 18,
        "start_time": "2023-03-21T10:17:36.885Z"
      },
      {
        "duration": 13,
        "start_time": "2023-03-21T10:18:45.131Z"
      },
      {
        "duration": 10,
        "start_time": "2023-03-21T10:19:06.931Z"
      },
      {
        "duration": 10,
        "start_time": "2023-03-21T10:19:31.835Z"
      },
      {
        "duration": 9,
        "start_time": "2023-03-21T10:19:32.060Z"
      },
      {
        "duration": 1270,
        "start_time": "2023-03-21T10:23:13.181Z"
      },
      {
        "duration": 571,
        "start_time": "2023-03-21T10:23:44.713Z"
      },
      {
        "duration": 630,
        "start_time": "2023-03-21T10:23:48.457Z"
      },
      {
        "duration": 13,
        "start_time": "2023-03-21T10:26:03.358Z"
      },
      {
        "duration": 69,
        "start_time": "2023-03-21T10:26:30.262Z"
      },
      {
        "duration": 228,
        "start_time": "2023-03-21T10:26:42.741Z"
      },
      {
        "duration": 233,
        "start_time": "2023-03-21T10:27:09.116Z"
      },
      {
        "duration": 11379,
        "start_time": "2023-03-21T10:27:13.135Z"
      },
      {
        "duration": 8350,
        "start_time": "2023-03-21T10:27:39.130Z"
      },
      {
        "duration": 8197,
        "start_time": "2023-03-21T10:28:00.580Z"
      },
      {
        "duration": 6643,
        "start_time": "2023-03-21T10:34:06.894Z"
      },
      {
        "duration": 6959,
        "start_time": "2023-03-21T10:34:17.756Z"
      },
      {
        "duration": 6582,
        "start_time": "2023-03-21T10:34:48.194Z"
      },
      {
        "duration": 6518,
        "start_time": "2023-03-21T10:34:57.593Z"
      },
      {
        "duration": 1805,
        "start_time": "2023-03-21T10:35:27.936Z"
      },
      {
        "duration": 10165,
        "start_time": "2023-03-21T10:35:37.886Z"
      },
      {
        "duration": 10,
        "start_time": "2023-03-21T10:37:31.335Z"
      },
      {
        "duration": 9488,
        "start_time": "2023-03-21T10:37:44.404Z"
      },
      {
        "duration": 7987,
        "start_time": "2023-03-21T10:38:46.259Z"
      },
      {
        "duration": 485,
        "start_time": "2023-03-21T10:40:05.861Z"
      },
      {
        "duration": 660,
        "start_time": "2023-03-21T10:40:36.317Z"
      },
      {
        "duration": 610,
        "start_time": "2023-03-21T10:40:57.643Z"
      },
      {
        "duration": 666,
        "start_time": "2023-03-21T10:41:13.683Z"
      },
      {
        "duration": 637,
        "start_time": "2023-03-21T10:41:22.800Z"
      },
      {
        "duration": 638,
        "start_time": "2023-03-21T10:41:31.148Z"
      },
      {
        "duration": 634,
        "start_time": "2023-03-21T10:41:34.813Z"
      },
      {
        "duration": 8101,
        "start_time": "2023-03-21T10:41:49.490Z"
      },
      {
        "duration": 471,
        "start_time": "2023-03-21T10:42:31.895Z"
      },
      {
        "duration": 45,
        "start_time": "2023-03-21T10:43:21.379Z"
      },
      {
        "duration": 62,
        "start_time": "2023-03-21T10:43:24.318Z"
      },
      {
        "duration": 158,
        "start_time": "2023-03-21T10:45:23.647Z"
      },
      {
        "duration": 618,
        "start_time": "2023-03-21T10:45:29.996Z"
      },
      {
        "duration": 8423,
        "start_time": "2023-03-21T10:45:38.509Z"
      },
      {
        "duration": 2061,
        "start_time": "2023-03-21T10:45:48.889Z"
      },
      {
        "duration": 2235,
        "start_time": "2023-03-21T10:45:55.574Z"
      },
      {
        "duration": 30,
        "start_time": "2023-03-21T10:46:02.814Z"
      },
      {
        "duration": 8012,
        "start_time": "2023-03-21T10:46:21.138Z"
      },
      {
        "duration": 9175,
        "start_time": "2023-03-21T10:46:30.301Z"
      },
      {
        "duration": 482,
        "start_time": "2023-03-21T10:46:41.366Z"
      },
      {
        "duration": 13,
        "start_time": "2023-03-21T10:46:48.127Z"
      },
      {
        "duration": 39,
        "start_time": "2023-03-21T10:46:50.813Z"
      },
      {
        "duration": 8,
        "start_time": "2023-03-21T10:49:28.885Z"
      },
      {
        "duration": 9,
        "start_time": "2023-03-21T10:49:29.029Z"
      },
      {
        "duration": 595,
        "start_time": "2023-03-21T10:49:59.238Z"
      },
      {
        "duration": 8,
        "start_time": "2023-03-21T10:50:47.540Z"
      },
      {
        "duration": 7,
        "start_time": "2023-03-21T10:51:04.068Z"
      },
      {
        "duration": 9,
        "start_time": "2023-03-21T10:51:04.209Z"
      },
      {
        "duration": 6,
        "start_time": "2023-03-21T10:51:09.206Z"
      },
      {
        "duration": 9,
        "start_time": "2023-03-21T10:53:41.925Z"
      },
      {
        "duration": 612,
        "start_time": "2023-03-21T10:53:51.129Z"
      },
      {
        "duration": 7846,
        "start_time": "2023-03-21T10:53:51.838Z"
      },
      {
        "duration": 9236,
        "start_time": "2023-03-21T10:53:59.686Z"
      },
      {
        "duration": 484,
        "start_time": "2023-03-21T10:54:08.923Z"
      },
      {
        "duration": 68,
        "start_time": "2023-03-21T10:54:09.408Z"
      },
      {
        "duration": 9,
        "start_time": "2023-03-21T10:54:15.858Z"
      },
      {
        "duration": 31,
        "start_time": "2023-03-21T10:54:16.740Z"
      },
      {
        "duration": 32,
        "start_time": "2023-03-21T10:54:23.028Z"
      },
      {
        "duration": 30,
        "start_time": "2023-03-21T10:54:26.203Z"
      },
      {
        "duration": 52,
        "start_time": "2023-03-21T10:54:26.924Z"
      },
      {
        "duration": 162,
        "start_time": "2023-03-21T10:55:34.411Z"
      },
      {
        "duration": 27,
        "start_time": "2023-03-21T10:55:46.757Z"
      },
      {
        "duration": 19,
        "start_time": "2023-03-21T10:55:47.283Z"
      },
      {
        "duration": 176,
        "start_time": "2023-03-21T10:55:48.090Z"
      },
      {
        "duration": 180,
        "start_time": "2023-03-21T10:59:09.197Z"
      },
      {
        "duration": 166,
        "start_time": "2023-03-21T10:59:56.398Z"
      },
      {
        "duration": 11,
        "start_time": "2023-03-21T11:00:33.785Z"
      },
      {
        "duration": 167,
        "start_time": "2023-03-21T11:00:34.691Z"
      },
      {
        "duration": 276,
        "start_time": "2023-03-21T11:00:45.833Z"
      },
      {
        "duration": 154,
        "start_time": "2023-03-21T11:00:51.695Z"
      },
      {
        "duration": 160,
        "start_time": "2023-03-21T11:01:02.935Z"
      },
      {
        "duration": 152,
        "start_time": "2023-03-21T11:01:10.627Z"
      },
      {
        "duration": 159,
        "start_time": "2023-03-21T11:01:17.092Z"
      },
      {
        "duration": 157,
        "start_time": "2023-03-21T11:01:22.081Z"
      },
      {
        "duration": 10,
        "start_time": "2023-03-21T11:01:38.000Z"
      },
      {
        "duration": 28,
        "start_time": "2023-03-21T11:01:38.348Z"
      },
      {
        "duration": 14,
        "start_time": "2023-03-21T11:01:38.606Z"
      },
      {
        "duration": 19,
        "start_time": "2023-03-21T11:02:06.705Z"
      },
      {
        "duration": 10,
        "start_time": "2023-03-21T11:02:09.971Z"
      },
      {
        "duration": 28,
        "start_time": "2023-03-21T11:02:10.615Z"
      },
      {
        "duration": 12,
        "start_time": "2023-03-21T11:02:11.282Z"
      },
      {
        "duration": 613,
        "start_time": "2023-03-21T11:02:34.860Z"
      },
      {
        "duration": 7799,
        "start_time": "2023-03-21T11:02:35.475Z"
      },
      {
        "duration": 9207,
        "start_time": "2023-03-21T11:02:43.276Z"
      },
      {
        "duration": 486,
        "start_time": "2023-03-21T11:02:52.485Z"
      },
      {
        "duration": 105,
        "start_time": "2023-03-21T11:02:52.974Z"
      },
      {
        "duration": 96,
        "start_time": "2023-03-21T11:02:53.081Z"
      },
      {
        "duration": 30,
        "start_time": "2023-03-21T11:02:53.178Z"
      },
      {
        "duration": 68,
        "start_time": "2023-03-21T11:02:53.209Z"
      },
      {
        "duration": 265,
        "start_time": "2023-03-21T11:02:53.278Z"
      },
      {
        "duration": 507,
        "start_time": "2023-03-21T11:03:00.454Z"
      },
      {
        "duration": 177,
        "start_time": "2023-03-21T11:04:08.864Z"
      },
      {
        "duration": 106,
        "start_time": "2023-03-21T11:04:33.707Z"
      },
      {
        "duration": 10,
        "start_time": "2023-03-21T11:05:00.333Z"
      },
      {
        "duration": 2001,
        "start_time": "2023-03-22T11:18:07.467Z"
      },
      {
        "duration": 18,
        "start_time": "2023-03-22T11:18:09.470Z"
      },
      {
        "duration": 14,
        "start_time": "2023-03-22T11:21:16.500Z"
      },
      {
        "duration": 41,
        "start_time": "2023-03-22T11:21:26.528Z"
      },
      {
        "duration": 15,
        "start_time": "2023-03-22T11:21:27.631Z"
      },
      {
        "duration": 134,
        "start_time": "2023-03-22T11:21:34.949Z"
      },
      {
        "duration": 47,
        "start_time": "2023-03-22T11:21:39.896Z"
      },
      {
        "duration": 35,
        "start_time": "2023-03-22T11:21:40.584Z"
      },
      {
        "duration": 10,
        "start_time": "2023-03-22T11:21:51.733Z"
      },
      {
        "duration": 22,
        "start_time": "2023-03-22T11:21:57.180Z"
      },
      {
        "duration": 13,
        "start_time": "2023-03-22T11:22:09.689Z"
      },
      {
        "duration": 19,
        "start_time": "2023-03-22T11:22:11.428Z"
      },
      {
        "duration": 14,
        "start_time": "2023-03-22T11:23:33.728Z"
      },
      {
        "duration": 12,
        "start_time": "2023-03-22T11:23:37.989Z"
      },
      {
        "duration": 18,
        "start_time": "2023-03-22T11:23:40.900Z"
      },
      {
        "duration": 27,
        "start_time": "2023-03-22T11:23:47.750Z"
      },
      {
        "duration": 41,
        "start_time": "2023-03-22T11:23:55.988Z"
      },
      {
        "duration": 14,
        "start_time": "2023-03-22T11:23:57.201Z"
      },
      {
        "duration": 22,
        "start_time": "2023-03-22T11:24:02.191Z"
      },
      {
        "duration": 40,
        "start_time": "2023-03-22T11:24:22.188Z"
      },
      {
        "duration": 18,
        "start_time": "2023-03-22T11:24:31.259Z"
      },
      {
        "duration": 23,
        "start_time": "2023-03-22T11:24:35.410Z"
      },
      {
        "duration": 14,
        "start_time": "2023-03-22T11:24:48.907Z"
      },
      {
        "duration": 23,
        "start_time": "2023-03-22T11:24:50.250Z"
      },
      {
        "duration": 11,
        "start_time": "2023-03-22T11:24:55.887Z"
      },
      {
        "duration": 11,
        "start_time": "2023-03-22T11:25:09.697Z"
      },
      {
        "duration": 3,
        "start_time": "2023-03-22T11:25:12.926Z"
      },
      {
        "duration": 8,
        "start_time": "2023-03-22T11:25:15.636Z"
      },
      {
        "duration": 14,
        "start_time": "2023-03-22T11:25:34.684Z"
      },
      {
        "duration": 42,
        "start_time": "2023-03-22T11:25:37.349Z"
      },
      {
        "duration": 14,
        "start_time": "2023-03-22T11:25:37.687Z"
      },
      {
        "duration": 16,
        "start_time": "2023-03-22T11:25:38.014Z"
      },
      {
        "duration": 19,
        "start_time": "2023-03-22T11:25:40.393Z"
      },
      {
        "duration": 16,
        "start_time": "2023-03-22T11:25:43.585Z"
      },
      {
        "duration": 12,
        "start_time": "2023-03-22T11:25:47.025Z"
      },
      {
        "duration": 43,
        "start_time": "2023-03-22T11:29:04.786Z"
      },
      {
        "duration": 13,
        "start_time": "2023-03-22T11:30:19.336Z"
      },
      {
        "duration": 10,
        "start_time": "2023-03-22T11:30:26.118Z"
      },
      {
        "duration": 209,
        "start_time": "2023-03-22T11:30:38.159Z"
      },
      {
        "duration": 11,
        "start_time": "2023-03-22T11:32:32.817Z"
      },
      {
        "duration": 70,
        "start_time": "2023-03-22T11:32:35.977Z"
      },
      {
        "duration": 88,
        "start_time": "2023-03-22T11:32:36.587Z"
      },
      {
        "duration": 29,
        "start_time": "2023-03-22T11:32:42.498Z"
      },
      {
        "duration": 36,
        "start_time": "2023-03-22T11:33:11.650Z"
      },
      {
        "duration": 154,
        "start_time": "2023-03-22T11:35:32.713Z"
      },
      {
        "duration": 36,
        "start_time": "2023-03-22T11:35:45.991Z"
      },
      {
        "duration": 149,
        "start_time": "2023-03-22T11:35:47.434Z"
      },
      {
        "duration": 159,
        "start_time": "2023-03-22T11:35:52.817Z"
      },
      {
        "duration": 38,
        "start_time": "2023-03-22T11:55:49.207Z"
      },
      {
        "duration": 15,
        "start_time": "2023-03-22T11:55:49.523Z"
      },
      {
        "duration": 13,
        "start_time": "2023-03-22T11:55:49.892Z"
      },
      {
        "duration": 16,
        "start_time": "2023-03-22T11:55:50.217Z"
      },
      {
        "duration": 178,
        "start_time": "2023-03-22T11:55:51.520Z"
      },
      {
        "duration": 1082,
        "start_time": "2023-03-22T11:55:53.656Z"
      },
      {
        "duration": 16,
        "start_time": "2023-03-22T11:55:56.205Z"
      },
      {
        "duration": 5,
        "start_time": "2023-03-22T11:56:12.715Z"
      },
      {
        "duration": 11,
        "start_time": "2023-03-22T11:56:14.427Z"
      },
      {
        "duration": 36,
        "start_time": "2023-03-22T11:56:15.960Z"
      },
      {
        "duration": 7573,
        "start_time": "2023-03-22T11:56:17.750Z"
      },
      {
        "duration": 17,
        "start_time": "2023-03-22T11:56:57.343Z"
      },
      {
        "duration": 29,
        "start_time": "2023-03-22T11:57:01.505Z"
      },
      {
        "duration": 6071,
        "start_time": "2023-03-22T11:57:12.496Z"
      },
      {
        "duration": 100899,
        "start_time": "2023-03-22T11:58:38.801Z"
      },
      {
        "duration": 9788,
        "start_time": "2023-03-22T12:01:49.451Z"
      },
      {
        "duration": 0,
        "start_time": "2023-03-22T12:01:59.241Z"
      },
      {
        "duration": 12,
        "start_time": "2023-03-22T12:02:04.949Z"
      },
      {
        "duration": 145,
        "start_time": "2023-03-22T12:02:33.690Z"
      },
      {
        "duration": 102274,
        "start_time": "2023-03-22T12:02:47.511Z"
      },
      {
        "duration": 38,
        "start_time": "2023-03-22T12:04:29.787Z"
      },
      {
        "duration": 1598,
        "start_time": "2023-03-22T12:07:51.793Z"
      },
      {
        "duration": 1565,
        "start_time": "2023-03-22T12:08:52.224Z"
      },
      {
        "duration": 9,
        "start_time": "2023-03-22T12:08:54.761Z"
      },
      {
        "duration": 158,
        "start_time": "2023-03-22T12:10:10.412Z"
      },
      {
        "duration": 320,
        "start_time": "2023-03-22T12:10:18.601Z"
      },
      {
        "duration": 93,
        "start_time": "2023-03-22T12:10:23.343Z"
      },
      {
        "duration": 1518,
        "start_time": "2023-03-22T12:12:06.697Z"
      },
      {
        "duration": 1495,
        "start_time": "2023-03-22T12:12:24.026Z"
      },
      {
        "duration": 1532,
        "start_time": "2023-03-22T12:12:34.820Z"
      },
      {
        "duration": 9,
        "start_time": "2023-03-22T12:12:38.234Z"
      },
      {
        "duration": 83,
        "start_time": "2023-03-22T12:14:04.915Z"
      },
      {
        "duration": 10,
        "start_time": "2023-03-22T12:14:46.992Z"
      },
      {
        "duration": 11,
        "start_time": "2023-03-22T12:16:12.421Z"
      },
      {
        "duration": 12,
        "start_time": "2023-03-22T12:16:12.856Z"
      },
      {
        "duration": 11,
        "start_time": "2023-03-22T12:16:30.049Z"
      },
      {
        "duration": 13,
        "start_time": "2023-03-22T12:16:59.913Z"
      },
      {
        "duration": 22,
        "start_time": "2023-03-22T12:20:11.857Z"
      },
      {
        "duration": 11,
        "start_time": "2023-03-22T12:21:10.631Z"
      },
      {
        "duration": 92,
        "start_time": "2023-03-22T12:21:27.217Z"
      },
      {
        "duration": 10,
        "start_time": "2023-03-22T12:22:46.495Z"
      },
      {
        "duration": 5,
        "start_time": "2023-03-22T12:24:55.138Z"
      },
      {
        "duration": 273,
        "start_time": "2023-03-22T12:25:09.283Z"
      },
      {
        "duration": 5,
        "start_time": "2023-03-22T12:25:35.747Z"
      },
      {
        "duration": 282,
        "start_time": "2023-03-22T12:25:36.230Z"
      },
      {
        "duration": 290,
        "start_time": "2023-03-22T12:25:46.133Z"
      },
      {
        "duration": 369,
        "start_time": "2023-03-22T12:26:16.549Z"
      },
      {
        "duration": 4,
        "start_time": "2023-03-22T12:28:42.456Z"
      },
      {
        "duration": 33636,
        "start_time": "2023-03-22T12:30:17.483Z"
      },
      {
        "duration": 0,
        "start_time": "2023-03-22T12:30:51.121Z"
      },
      {
        "duration": 134072,
        "start_time": "2023-03-22T12:30:52.541Z"
      },
      {
        "duration": 34,
        "start_time": "2023-03-22T12:33:06.615Z"
      },
      {
        "duration": 1773,
        "start_time": "2023-03-22T12:33:06.651Z"
      },
      {
        "duration": 10,
        "start_time": "2023-03-22T12:33:08.426Z"
      },
      {
        "duration": 0,
        "start_time": "2023-03-22T12:33:08.438Z"
      },
      {
        "duration": 0,
        "start_time": "2023-03-22T12:33:08.439Z"
      },
      {
        "duration": 0,
        "start_time": "2023-03-22T12:36:59.583Z"
      },
      {
        "duration": 0,
        "start_time": "2023-03-22T12:36:59.585Z"
      },
      {
        "duration": 0,
        "start_time": "2023-03-22T12:36:59.586Z"
      },
      {
        "duration": 133772,
        "start_time": "2023-03-22T12:37:03.446Z"
      },
      {
        "duration": 34,
        "start_time": "2023-03-22T12:39:17.220Z"
      },
      {
        "duration": 1788,
        "start_time": "2023-03-22T12:39:17.256Z"
      },
      {
        "duration": 9,
        "start_time": "2023-03-22T12:39:19.046Z"
      },
      {
        "duration": 144,
        "start_time": "2023-03-22T12:39:19.057Z"
      },
      {
        "duration": 101,
        "start_time": "2023-03-22T12:39:19.204Z"
      },
      {
        "duration": 287,
        "start_time": "2023-03-22T12:44:01.837Z"
      },
      {
        "duration": 326,
        "start_time": "2023-03-22T12:44:17.884Z"
      },
      {
        "duration": 368,
        "start_time": "2023-03-22T12:44:39.260Z"
      },
      {
        "duration": 341,
        "start_time": "2023-03-22T12:45:08.726Z"
      },
      {
        "duration": 328,
        "start_time": "2023-03-22T12:45:21.449Z"
      },
      {
        "duration": 349,
        "start_time": "2023-03-22T12:45:26.861Z"
      },
      {
        "duration": 342,
        "start_time": "2023-03-22T12:45:45.125Z"
      },
      {
        "duration": 348,
        "start_time": "2023-03-22T12:45:48.096Z"
      },
      {
        "duration": 26,
        "start_time": "2023-03-22T12:45:58.777Z"
      },
      {
        "duration": 6,
        "start_time": "2023-03-22T12:46:19.126Z"
      },
      {
        "duration": 12,
        "start_time": "2023-03-22T12:46:26.859Z"
      },
      {
        "duration": 38,
        "start_time": "2023-03-22T12:46:45.497Z"
      },
      {
        "duration": 11,
        "start_time": "2023-03-22T12:46:50.208Z"
      },
      {
        "duration": 352,
        "start_time": "2023-03-22T12:51:31.697Z"
      },
      {
        "duration": 1928,
        "start_time": "2023-03-23T09:57:06.031Z"
      },
      {
        "duration": 16,
        "start_time": "2023-03-23T09:57:07.962Z"
      },
      {
        "duration": 130,
        "start_time": "2023-03-23T09:57:12.830Z"
      },
      {
        "duration": 16,
        "start_time": "2023-03-23T09:57:19.436Z"
      },
      {
        "duration": 144,
        "start_time": "2023-03-23T09:57:33.977Z"
      },
      {
        "duration": 19,
        "start_time": "2023-03-23T09:57:38.324Z"
      },
      {
        "duration": 17,
        "start_time": "2023-03-23T09:57:58.835Z"
      },
      {
        "duration": 13,
        "start_time": "2023-03-23T09:58:01.731Z"
      },
      {
        "duration": 11,
        "start_time": "2023-03-23T09:58:04.526Z"
      },
      {
        "duration": 3,
        "start_time": "2023-03-23T09:58:10.541Z"
      },
      {
        "duration": 8,
        "start_time": "2023-03-23T09:58:13.030Z"
      },
      {
        "duration": 6,
        "start_time": "2023-03-23T09:58:16.832Z"
      },
      {
        "duration": 8,
        "start_time": "2023-03-23T09:58:20.762Z"
      },
      {
        "duration": 9,
        "start_time": "2023-03-23T09:58:43.052Z"
      },
      {
        "duration": 65,
        "start_time": "2023-03-23T09:58:45.403Z"
      },
      {
        "duration": 57,
        "start_time": "2023-03-23T09:58:47.784Z"
      },
      {
        "duration": 29,
        "start_time": "2023-03-23T09:58:48.074Z"
      },
      {
        "duration": 58,
        "start_time": "2023-03-23T09:58:48.357Z"
      },
      {
        "duration": 17,
        "start_time": "2023-03-23T09:58:56.553Z"
      },
      {
        "duration": 11,
        "start_time": "2023-03-23T09:59:08.532Z"
      },
      {
        "duration": 15,
        "start_time": "2023-03-23T10:00:33.417Z"
      },
      {
        "duration": 184,
        "start_time": "2023-03-23T10:01:49.951Z"
      },
      {
        "duration": 191,
        "start_time": "2023-03-23T10:01:53.246Z"
      },
      {
        "duration": 16,
        "start_time": "2023-03-23T10:03:11.143Z"
      },
      {
        "duration": 10,
        "start_time": "2023-03-23T10:03:11.433Z"
      },
      {
        "duration": 38,
        "start_time": "2023-03-23T10:03:13.829Z"
      },
      {
        "duration": 11,
        "start_time": "2023-03-23T10:03:14.126Z"
      },
      {
        "duration": 11,
        "start_time": "2023-03-23T10:03:14.425Z"
      },
      {
        "duration": 16,
        "start_time": "2023-03-23T10:03:14.891Z"
      },
      {
        "duration": 143,
        "start_time": "2023-03-23T10:03:15.214Z"
      },
      {
        "duration": 771,
        "start_time": "2023-03-23T10:03:15.647Z"
      },
      {
        "duration": 10,
        "start_time": "2023-03-23T10:03:16.420Z"
      },
      {
        "duration": 15,
        "start_time": "2023-03-23T10:03:16.433Z"
      },
      {
        "duration": 12,
        "start_time": "2023-03-23T10:03:16.610Z"
      },
      {
        "duration": 46,
        "start_time": "2023-03-23T10:03:17.103Z"
      },
      {
        "duration": 4,
        "start_time": "2023-03-23T10:03:17.777Z"
      },
      {
        "duration": 283,
        "start_time": "2023-03-23T10:03:17.943Z"
      },
      {
        "duration": 97528,
        "start_time": "2023-03-23T10:03:18.228Z"
      },
      {
        "duration": 42,
        "start_time": "2023-03-23T10:04:55.758Z"
      },
      {
        "duration": 1546,
        "start_time": "2023-03-23T10:04:55.801Z"
      },
      {
        "duration": 8,
        "start_time": "2023-03-23T10:04:57.349Z"
      },
      {
        "duration": 64,
        "start_time": "2023-03-23T10:04:57.358Z"
      },
      {
        "duration": 120,
        "start_time": "2023-03-23T10:04:57.425Z"
      },
      {
        "duration": 147,
        "start_time": "2023-03-23T10:04:57.591Z"
      },
      {
        "duration": 21,
        "start_time": "2023-03-23T10:04:57.740Z"
      },
      {
        "duration": 0,
        "start_time": "2023-03-23T10:04:57.858Z"
      },
      {
        "duration": 0,
        "start_time": "2023-03-23T10:04:57.859Z"
      },
      {
        "duration": 0,
        "start_time": "2023-03-23T10:04:57.859Z"
      },
      {
        "duration": 0,
        "start_time": "2023-03-23T10:04:57.860Z"
      },
      {
        "duration": 0,
        "start_time": "2023-03-23T10:04:57.861Z"
      },
      {
        "duration": 0,
        "start_time": "2023-03-23T10:04:57.861Z"
      },
      {
        "duration": 5,
        "start_time": "2023-03-23T10:12:05.317Z"
      },
      {
        "duration": 4,
        "start_time": "2023-03-23T10:12:05.632Z"
      },
      {
        "duration": 10,
        "start_time": "2023-03-23T10:12:06.443Z"
      },
      {
        "duration": 332,
        "start_time": "2023-03-23T10:12:06.861Z"
      },
      {
        "duration": 387,
        "start_time": "2023-03-23T10:12:07.320Z"
      },
      {
        "duration": 10,
        "start_time": "2023-03-23T10:12:08.608Z"
      },
      {
        "duration": 277,
        "start_time": "2023-03-23T10:12:08.823Z"
      },
      {
        "duration": 8,
        "start_time": "2023-03-23T10:12:09.821Z"
      },
      {
        "duration": 14,
        "start_time": "2023-03-23T10:12:20.251Z"
      },
      {
        "duration": 294,
        "start_time": "2023-03-23T10:12:20.434Z"
      },
      {
        "duration": 8,
        "start_time": "2023-03-23T10:12:21.269Z"
      },
      {
        "duration": 14,
        "start_time": "2023-03-23T10:27:24.540Z"
      },
      {
        "duration": 9,
        "start_time": "2023-03-23T10:27:26.336Z"
      },
      {
        "duration": 23,
        "start_time": "2023-03-23T10:27:28.415Z"
      },
      {
        "duration": 10,
        "start_time": "2023-03-23T10:27:30.950Z"
      },
      {
        "duration": 128,
        "start_time": "2023-03-23T10:27:32.911Z"
      },
      {
        "duration": 12,
        "start_time": "2023-03-23T10:27:35.342Z"
      },
      {
        "duration": 393,
        "start_time": "2023-03-23T10:27:35.419Z"
      },
      {
        "duration": 371,
        "start_time": "2023-03-23T10:27:35.831Z"
      },
      {
        "duration": 108,
        "start_time": "2023-03-23T10:40:50.559Z"
      },
      {
        "duration": 324,
        "start_time": "2023-03-23T10:42:21.321Z"
      },
      {
        "duration": 20,
        "start_time": "2023-03-23T10:42:22.522Z"
      },
      {
        "duration": 8,
        "start_time": "2023-03-23T10:42:22.948Z"
      },
      {
        "duration": 10,
        "start_time": "2023-03-23T10:42:26.952Z"
      },
      {
        "duration": 352,
        "start_time": "2023-03-23T10:44:54.368Z"
      },
      {
        "duration": 335,
        "start_time": "2023-03-23T10:44:59.313Z"
      }
    ],
    "kernelspec": {
      "display_name": "Python 3 (ipykernel)",
      "language": "python",
      "name": "python3"
    },
    "language_info": {
      "codemirror_mode": {
        "name": "ipython",
        "version": 3
      },
      "file_extension": ".py",
      "mimetype": "text/x-python",
      "name": "python",
      "nbconvert_exporter": "python",
      "pygments_lexer": "ipython3",
      "version": "3.9.5"
    },
    "toc": {
      "base_numbering": 1,
      "nav_menu": {},
      "number_sections": true,
      "sideBar": true,
      "skip_h1_title": true,
      "title_cell": "Содержание",
      "title_sidebar": "Contents",
      "toc_cell": true,
      "toc_position": {
        "height": "calc(100% - 180px)",
        "left": "10px",
        "top": "150px",
        "width": "165px"
      },
      "toc_section_display": true,
      "toc_window_display": false
    },
    "colab": {
      "provenance": []
    }
  },
  "nbformat": 4,
  "nbformat_minor": 0
}